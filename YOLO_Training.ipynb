{
  "nbformat": 4,
  "nbformat_minor": 0,
  "metadata": {
    "colab": {
      "provenance": [],
      "gpuType": "T4"
    },
    "kernelspec": {
      "name": "python3",
      "display_name": "Python 3"
    },
    "language_info": {
      "name": "python"
    },
    "accelerator": "GPU"
  },
  "cells": [
    {
      "cell_type": "code",
      "execution_count": null,
      "metadata": {
        "colab": {
          "base_uri": "https://localhost:8080/"
        },
        "id": "1MbeVvIkBT9m",
        "outputId": "05030639-d446-4ee5-87df-c94ae16387c4"
      },
      "outputs": [
        {
          "output_type": "stream",
          "name": "stdout",
          "text": [
            "Mounted at /content/gdrive\n"
          ]
        }
      ],
      "source": [
        "from google.colab import drive\n",
        "\n",
        "drive.mount('/content/gdrive')"
      ]
    },
    {
      "cell_type": "code",
      "source": [
        "!pip install ultralytics"
      ],
      "metadata": {
        "colab": {
          "base_uri": "https://localhost:8080/"
        },
        "id": "RuAHTUNPBehb",
        "outputId": "38108f71-0373-49e8-f6bd-67105645b9e7"
      },
      "execution_count": null,
      "outputs": [
        {
          "output_type": "stream",
          "name": "stdout",
          "text": [
            "Installing collected packages: thop, ultralytics\n",
            "Successfully installed thop-0.1.1.post2209072238 ultralytics-8.0.195\n"
          ]
        }
      ]
    },
    {
      "cell_type": "code",
      "source": [
        "import zipfile\n",
        "\n",
        "zip_file_path = \"/content/gdrive/MyDrive/Dogs.zip\"\n",
        "\n",
        "with zipfile.ZipFile(zip_file_path, 'r') as zip_ref:\n",
        "    zip_ref.extractall(\"/content\")\n"
      ],
      "metadata": {
        "id": "y3wyM81KC11Q"
      },
      "execution_count": null,
      "outputs": []
    },
    {
      "cell_type": "code",
      "source": [
        "from ultralytics import YOLO\n",
        "\n",
        "# Define the directory path\n",
        "root_dir = \"/content/Dogs/\"\n",
        "print(f\"Root directory: {root_dir}\")\n",
        "\n",
        "model = YOLO('yolov8n-cls.pt')\n",
        "\n",
        "# Train the model\n",
        "print(\"YOLO training now...\")\n",
        "results = model.train(data=root_dir, epochs=16, imgsz=224)"
      ],
      "metadata": {
        "colab": {
          "base_uri": "https://localhost:8080/"
        },
        "id": "2dvDeUvmBkEJ",
        "outputId": "485f1e57-2114-4f31-bd42-cfc8d0a19cde"
      },
      "execution_count": 12,
      "outputs": [
        {
          "output_type": "stream",
          "name": "stdout",
          "text": [
            "Root directory: /content/Dogs/\n",
            "YOLO training now...\n"
          ]
        },
        {
          "output_type": "stream",
          "name": "stderr",
          "text": [
            "Ultralytics YOLOv8.0.195 🚀 Python-3.10.12 torch-2.0.1+cu118 CUDA:0 (Tesla T4, 15102MiB)\n",
            "\u001b[34m\u001b[1mengine/trainer: \u001b[0mtask=classify, mode=train, model=yolov8n-cls.pt, data=/content/Dogs/, epochs=16, patience=50, batch=16, imgsz=224, save=True, save_period=-1, cache=False, device=None, workers=8, project=None, name=None, exist_ok=False, pretrained=True, optimizer=auto, verbose=True, seed=0, deterministic=True, single_cls=False, rect=False, cos_lr=False, close_mosaic=10, resume=False, amp=True, fraction=1.0, profile=False, freeze=None, overlap_mask=True, mask_ratio=4, dropout=0.0, val=True, split=val, save_json=False, save_hybrid=False, conf=None, iou=0.7, max_det=300, half=False, dnn=False, plots=True, source=None, show=False, save_txt=False, save_conf=False, save_crop=False, show_labels=True, show_conf=True, vid_stride=1, stream_buffer=False, line_width=None, visualize=False, augment=False, agnostic_nms=False, classes=None, retina_masks=False, boxes=True, format=torchscript, keras=False, optimize=False, int8=False, dynamic=False, simplify=False, opset=None, workspace=4, nms=False, lr0=0.01, lrf=0.01, momentum=0.937, weight_decay=0.0005, warmup_epochs=3.0, warmup_momentum=0.8, warmup_bias_lr=0.1, box=7.5, cls=0.5, dfl=1.5, pose=12.0, kobj=1.0, label_smoothing=0.0, nbs=64, hsv_h=0.015, hsv_s=0.7, hsv_v=0.4, degrees=0.0, translate=0.1, scale=0.5, shear=0.0, perspective=0.0, flipud=0.0, fliplr=0.5, mosaic=1.0, mixup=0.0, copy_paste=0.0, cfg=None, tracker=botsort.yaml, save_dir=runs/classify/train4\n",
            "\u001b[34m\u001b[1mtrain:\u001b[0m /content/Dogs/train... found 12000 images in 120 classes ✅ \n",
            "\u001b[34m\u001b[1mval:\u001b[0m None...\n",
            "\u001b[34m\u001b[1mtest:\u001b[0m /content/Dogs/test... found 8580 images in 120 classes ✅ \n",
            "Overriding model.yaml nc=1000 with nc=120\n",
            "\n",
            "                   from  n    params  module                                       arguments                     \n",
            "  0                  -1  1       464  ultralytics.nn.modules.conv.Conv             [3, 16, 3, 2]                 \n",
            "  1                  -1  1      4672  ultralytics.nn.modules.conv.Conv             [16, 32, 3, 2]                \n",
            "  2                  -1  1      7360  ultralytics.nn.modules.block.C2f             [32, 32, 1, True]             \n",
            "  3                  -1  1     18560  ultralytics.nn.modules.conv.Conv             [32, 64, 3, 2]                \n",
            "  4                  -1  2     49664  ultralytics.nn.modules.block.C2f             [64, 64, 2, True]             \n",
            "  5                  -1  1     73984  ultralytics.nn.modules.conv.Conv             [64, 128, 3, 2]               \n",
            "  6                  -1  2    197632  ultralytics.nn.modules.block.C2f             [128, 128, 2, True]           \n",
            "  7                  -1  1    295424  ultralytics.nn.modules.conv.Conv             [128, 256, 3, 2]              \n",
            "  8                  -1  1    460288  ultralytics.nn.modules.block.C2f             [256, 256, 1, True]           \n",
            "  9                  -1  1    483960  ultralytics.nn.modules.head.Classify         [256, 120]                    \n",
            "YOLOv8n-cls summary: 99 layers, 1592008 parameters, 1592008 gradients, 3.5 GFLOPs\n",
            "Transferred 156/158 items from pretrained weights\n",
            "\u001b[34m\u001b[1mTensorBoard: \u001b[0mStart with 'tensorboard --logdir runs/classify/train4', view at http://localhost:6006/\n",
            "\u001b[34m\u001b[1mAMP: \u001b[0mrunning Automatic Mixed Precision (AMP) checks with YOLOv8n...\n",
            "\u001b[34m\u001b[1mAMP: \u001b[0mchecks passed ✅\n",
            "\u001b[34m\u001b[1mtrain: \u001b[0mScanning /content/Dogs/train... 12000 images, 0 corrupt: 100%|██████████| 12000/12000 [00:00<?, ?it/s]\n",
            "\u001b[34m\u001b[1malbumentations: \u001b[0mRandomResizedCrop(p=1.0, height=224, width=224, scale=(0.5, 1.0), ratio=(0.75, 1.3333333333333333), interpolation=1), HorizontalFlip(p=0.5), ColorJitter(p=0.5, brightness=[0.6, 1.4], contrast=[0.6, 1.4], saturation=[0.30000000000000004, 1.7], hue=[-0.015, 0.015]), Normalize(p=1.0, mean=(0.0, 0.0, 0.0), std=(1.0, 1.0, 1.0), max_pixel_value=255.0), ToTensorV2(always_apply=True, p=1.0, transpose_mask=False)\n",
            "\u001b[34m\u001b[1mval: \u001b[0mScanning /content/Dogs/test... 8580 images, 0 corrupt: 100%|██████████| 8580/8580 [00:00<?, ?it/s]\n",
            "\u001b[34m\u001b[1moptimizer:\u001b[0m 'optimizer=auto' found, ignoring 'lr0=0.01' and 'momentum=0.937' and determining best 'optimizer', 'lr0' and 'momentum' automatically... \n",
            "\u001b[34m\u001b[1moptimizer:\u001b[0m AdamW(lr=0.000714, momentum=0.9) with parameter groups 26 weight(decay=0.0), 27 weight(decay=0.0005), 27 bias(decay=0.0)\n",
            "Image sizes 224 train, 224 val\n",
            "Using 2 dataloader workers\n",
            "Logging results to \u001b[1mruns/classify/train4\u001b[0m\n",
            "Starting training for 16 epochs...\n",
            "\n",
            "      Epoch    GPU_mem       loss  Instances       Size\n",
            "       1/16     0.606G      0.937         16        224: 100%|██████████| 750/750 [00:48<00:00, 15.34it/s]\n",
            "               classes   top1_acc   top5_acc: 100%|██████████| 269/269 [00:17<00:00, 15.11it/s]\n",
            "                   all      0.478      0.817\n",
            "\n",
            "      Epoch    GPU_mem       loss  Instances       Size\n",
            "       2/16     0.558G     0.4763         16        224: 100%|██████████| 750/750 [00:48<00:00, 15.59it/s]\n",
            "               classes   top1_acc   top5_acc: 100%|██████████| 269/269 [00:15<00:00, 17.37it/s]\n",
            "                   all      0.585      0.896\n",
            "\n",
            "      Epoch    GPU_mem       loss  Instances       Size\n",
            "       3/16     0.556G       0.39         16        224: 100%|██████████| 750/750 [00:46<00:00, 16.20it/s]\n",
            "               classes   top1_acc   top5_acc: 100%|██████████| 269/269 [00:14<00:00, 18.00it/s]\n",
            "                   all      0.599      0.906\n",
            "\n",
            "      Epoch    GPU_mem       loss  Instances       Size\n",
            "       4/16     0.558G     0.3335         16        224: 100%|██████████| 750/750 [00:45<00:00, 16.39it/s]\n",
            "               classes   top1_acc   top5_acc: 100%|██████████| 269/269 [00:14<00:00, 18.16it/s]\n",
            "                   all      0.647      0.927\n",
            "\n",
            "      Epoch    GPU_mem       loss  Instances       Size\n",
            "       5/16     0.556G     0.2822         16        224: 100%|██████████| 750/750 [00:48<00:00, 15.52it/s]\n",
            "               classes   top1_acc   top5_acc: 100%|██████████| 269/269 [00:14<00:00, 17.99it/s]\n",
            "                   all      0.685       0.94\n",
            "\n",
            "      Epoch    GPU_mem       loss  Instances       Size\n",
            "       6/16     0.558G     0.2476         16        224: 100%|██████████| 750/750 [00:46<00:00, 16.16it/s]\n",
            "               classes   top1_acc   top5_acc: 100%|██████████| 269/269 [00:15<00:00, 17.86it/s]\n",
            "                   all      0.682      0.942\n",
            "Closing dataloader mosaic\n",
            "\n",
            "      Epoch    GPU_mem       loss  Instances       Size\n",
            "       7/16     0.556G      0.212         16        224: 100%|██████████| 750/750 [00:46<00:00, 16.15it/s]\n",
            "               classes   top1_acc   top5_acc: 100%|██████████| 269/269 [00:14<00:00, 17.98it/s]\n",
            "                   all      0.702      0.946\n",
            "\n",
            "      Epoch    GPU_mem       loss  Instances       Size\n",
            "       8/16     0.558G     0.1928         16        224: 100%|██████████| 750/750 [00:45<00:00, 16.34it/s]\n",
            "               classes   top1_acc   top5_acc: 100%|██████████| 269/269 [00:15<00:00, 17.45it/s]\n",
            "                   all      0.697      0.938\n",
            "\n",
            "      Epoch    GPU_mem       loss  Instances       Size\n",
            "       9/16     0.558G     0.1659         16        224: 100%|██████████| 750/750 [00:46<00:00, 15.98it/s]\n",
            "               classes   top1_acc   top5_acc: 100%|██████████| 269/269 [00:15<00:00, 17.65it/s]\n",
            "                   all      0.709      0.947\n",
            "\n",
            "      Epoch    GPU_mem       loss  Instances       Size\n",
            "      10/16     0.556G     0.1509         16        224: 100%|██████████| 750/750 [00:48<00:00, 15.61it/s]\n",
            "               classes   top1_acc   top5_acc: 100%|██████████| 269/269 [00:15<00:00, 17.16it/s]\n",
            "                   all      0.725      0.953\n",
            "\n",
            "      Epoch    GPU_mem       loss  Instances       Size\n",
            "      11/16     0.556G     0.1335         16        224: 100%|██████████| 750/750 [00:47<00:00, 15.93it/s]\n",
            "               classes   top1_acc   top5_acc: 100%|██████████| 269/269 [00:15<00:00, 17.56it/s]\n",
            "                   all      0.722      0.949\n",
            "\n",
            "      Epoch    GPU_mem       loss  Instances       Size\n",
            "      12/16     0.558G     0.1222         16        224: 100%|██████████| 750/750 [00:48<00:00, 15.39it/s]\n",
            "               classes   top1_acc   top5_acc: 100%|██████████| 269/269 [00:15<00:00, 17.19it/s]\n",
            "                   all      0.724      0.953\n",
            "\n",
            "      Epoch    GPU_mem       loss  Instances       Size\n",
            "      13/16     0.558G     0.1086         16        224: 100%|██████████| 750/750 [00:45<00:00, 16.37it/s]\n",
            "               classes   top1_acc   top5_acc: 100%|██████████| 269/269 [00:15<00:00, 17.82it/s]\n",
            "                   all      0.729       0.95\n",
            "\n",
            "      Epoch    GPU_mem       loss  Instances       Size\n",
            "      14/16     0.558G    0.09943         16        224: 100%|██████████| 750/750 [00:46<00:00, 16.18it/s]\n",
            "               classes   top1_acc   top5_acc: 100%|██████████| 269/269 [00:15<00:00, 17.88it/s]\n",
            "                   all      0.734      0.952\n",
            "\n",
            "      Epoch    GPU_mem       loss  Instances       Size\n",
            "      15/16     0.556G    0.09082         16        224: 100%|██████████| 750/750 [00:46<00:00, 16.06it/s]\n",
            "               classes   top1_acc   top5_acc: 100%|██████████| 269/269 [00:17<00:00, 15.53it/s]\n",
            "                   all      0.741      0.952\n",
            "\n",
            "      Epoch    GPU_mem       loss  Instances       Size\n",
            "      16/16     0.556G    0.08265         16        224: 100%|██████████| 750/750 [00:46<00:00, 16.29it/s]\n",
            "               classes   top1_acc   top5_acc: 100%|██████████| 269/269 [00:15<00:00, 17.83it/s]\n",
            "                   all      0.739      0.952\n",
            "\n",
            "16 epochs completed in 0.280 hours.\n",
            "Optimizer stripped from runs/classify/train4/weights/last.pt, 3.3MB\n",
            "Optimizer stripped from runs/classify/train4/weights/best.pt, 3.3MB\n",
            "\n",
            "Validating runs/classify/train4/weights/best.pt...\n",
            "Ultralytics YOLOv8.0.195 🚀 Python-3.10.12 torch-2.0.1+cu118 CUDA:0 (Tesla T4, 15102MiB)\n",
            "YOLOv8n-cls summary (fused): 73 layers, 1588600 parameters, 0 gradients, 3.4 GFLOPs\n",
            "WARNING ⚠️ Dataset 'split=val' not found, using 'split=test' instead.\n",
            "\u001b[34m\u001b[1mtrain:\u001b[0m /content/Dogs/train... found 12000 images in 120 classes ✅ \n",
            "\u001b[34m\u001b[1mval:\u001b[0m None...\n",
            "\u001b[34m\u001b[1mtest:\u001b[0m /content/Dogs/test... found 8580 images in 120 classes ✅ \n",
            "               classes   top1_acc   top5_acc: 100%|██████████| 269/269 [00:15<00:00, 17.39it/s]\n",
            "                   all      0.741      0.952\n",
            "Speed: 0.1ms preprocess, 0.4ms inference, 0.0ms loss, 0.0ms postprocess per image\n",
            "Results saved to \u001b[1mruns/classify/train4\u001b[0m\n",
            "Results saved to \u001b[1mruns/classify/train4\u001b[0m\n"
          ]
        }
      ]
    },
    {
      "cell_type": "code",
      "source": [
        "!scp -r /content/runs '/content/gdrive/MyDrive/DogClassification_YOLOv8'"
      ],
      "metadata": {
        "id": "XlJiD7eJEMpb"
      },
      "execution_count": 13,
      "outputs": []
    }
  ]
}